{
 "cells": [
  {
   "cell_type": "code",
   "execution_count": 114,
   "id": "53d9b713-483a-4fd2-8355-cddb39a4e833",
   "metadata": {},
   "outputs": [],
   "source": [
    "from sotodlib import core, io\n",
    "\n",
    "import datetime as dt\n",
    "\n",
    "import numpy as np\n",
    "import dill as pk\n",
    "\n",
    "import h5py"
   ]
  },
  {
   "cell_type": "code",
   "execution_count": 130,
   "id": "a61c9176-5bcd-446a-8c6b-59c32fe2106b",
   "metadata": {},
   "outputs": [],
   "source": [
    "with open(\"results_05012025.pk\", \"rb\") as f:\n",
    "    result_dict = pk.load(f)\n",
    "    \n",
    "with open(\"abscals.pk\", \"rb\") as f:\n",
    "    abscal_dict = pk.load(f)\n"
   ]
  },
  {
   "cell_type": "code",
   "execution_count": 158,
   "id": "5e57e792-4eb6-44f7-94d5-797b903109ce",
   "metadata": {},
   "outputs": [],
   "source": [
    "ctx = core.Context('./smurf_det_preproc.yaml')\n",
    "\n",
    "start = dt.datetime(2025,4,17, tzinfo=dt.timezone.utc)\n",
    "end = dt.datetime(2025,4,28, tzinfo=dt.timezone.utc)\n",
    "obs_list = ctx.obsdb.query(\n",
    "    f\"{end.timestamp()} > timestamp and timestamp > {start.timestamp()} and type=='obs' and subtype=='cmb'\"\n",
    ")"
   ]
  },
  {
   "cell_type": "code",
   "execution_count": 159,
   "id": "243377a7-53e9-41b9-9058-c24386cd6cd1",
   "metadata": {},
   "outputs": [],
   "source": [
    "net_dict = {}\n",
    "\n",
    "for key in abscal_dict.keys():\n",
    "    ufm = key.split(\"_\")[4]\n",
    "    freq = key.split(\"_\")[5]\n",
    "    if ufm in abscal_dict.keys():\n",
    "        continue\n",
    "    if \"090\" in freq or \"150\" in freq:\n",
    "        net_dict[ufm] = {\"090\":{\"chi\":[], \"obs\":[], \"ndets\":[], \"nets\":[], \"raw_cal\":[], \"el\":[], \"pwv\":[]}, \"150\":{\"chi\":[], \"obs\":[], \"ndets\":[], \"nets\":[], \"raw_cal\":[], \"el\":[], \"pwv\":[]}}\n",
    "    else:\n",
    "        net_dict[ufm] = {\"220\":{\"chi\":[], \"obs\":[], \"ndets\":[], \"nets\":[], \"raw_cal\":[], \"el\":[], \"pwv\":[]}, \"280\":{\"chi\":[], \"obs\":[], \"ndets\":[], \"nets\":[], \"raw_cal\":[], \"el\":[], \"pwv\":[]}}"
   ]
  },
  {
   "cell_type": "code",
   "execution_count": 160,
   "id": "3132015c-8ca8-47a0-a2a7-deed18d04646",
   "metadata": {},
   "outputs": [],
   "source": [
    "cur_obs = obs_list[1]\n",
    "wafers = cur_obs[\"stream_ids_list\"].split(\",\")\n",
    "cur_wafer = wafers[0].split(\"_\")[-1]\n",
    "\n",
    "try:\n",
    "    meta = ctx.get_meta(cur_obs[\"obs_id\"])\n",
    "except:\n",
    "    print(\"No meta data for obs {}\".format(cur_obs[\"obs_id\"]))\n"
   ]
  },
  {
   "cell_type": "code",
   "execution_count": 164,
   "id": "6927feb0-4300-4fe3-a9ef-800bab31b097",
   "metadata": {},
   "outputs": [],
   "source": [
    "wafer_flag = np.array([cur_wafer in ufm for ufm in meta.det_info.stream_id])\n"
   ]
  },
  {
   "cell_type": "code",
   "execution_count": 165,
   "id": "b56efc34-5f43-466c-84f9-1275a1896f21",
   "metadata": {},
   "outputs": [
    {
     "data": {
      "text/plain": [
       "array(['ufm_mv14', 'ufm_mv14', 'ufm_mv14', ..., 'ufm_mv49', 'ufm_mv49',\n",
       "       'ufm_mv49'], shape=(5165,), dtype='<U8')"
      ]
     },
     "execution_count": 165,
     "metadata": {},
     "output_type": "execute_result"
    }
   ],
   "source": [
    " meta.det_info.stream_id"
   ]
  },
  {
   "cell_type": "code",
   "execution_count": 169,
   "id": "18fb93fb-d64f-4f19-9743-6d4047ec5fb8",
   "metadata": {},
   "outputs": [
    {
     "data": {
      "text/plain": [
       "array(['ws0', 'ws0', 'ws0', ..., 'ws2', 'ws2', 'ws2'],\n",
       "      shape=(5165,), dtype='<U3')"
      ]
     },
     "execution_count": 169,
     "metadata": {},
     "output_type": "execute_result"
    }
   ],
   "source": [
    " meta.det_info.wafer_slot"
   ]
  },
  {
   "cell_type": "code",
   "execution_count": 86,
   "id": "5814c758-f359-4971-9a19-8b05dfd27aab",
   "metadata": {},
   "outputs": [],
   "source": [
    "ufm_band = 1\n",
    "if \"mv\" in cur_wafer:\n",
    "    if ufm_band == 1:\n",
    "        band = \"090\"\n",
    "    elif ufm_band == 2:\n",
    "        band = \"150\"\n",
    "if \"uv\" in cur_wafer:\n",
    "    if ufm_band == 1:\n",
    "        band = \"220\"\n",
    "    elif ufm_band == 2:\n",
    "        band = \"280\"\n",
    "\n",
    "\n",
    "wafer_flag = np.array([cur_wafer in ufm for ufm in meta.det_info.stream_id])\n",
    "\n",
    "bp = (meta.det_cal.bg % 4) // 2\n",
    "\n",
    "if ufm_band == 1:\n",
    "    net_flag = wafer_flag * (bp==0)\n",
    "elif ufm_band == 2:\n",
    "    net_flag = wafer_flag * (bp==1)\n",
    "\n",
    "try:\n",
    "    times = np.array([float(label.split(\"_\")[0]) for label in result_dict[cur_wafer][band][\"obs\"]])\n",
    "except KeyError:\n",
    "    continue\n",
    "    \n",
    "closest_idx = np.argmin(np.abs(times-cur_obs[\"timestamp\"]))\n",
    "closest_obs = times[closest_idx]\n",
    "closest_chi = result_dict[cur_wafer][band][\"chi\"][closest_idx]\n",
    "if np.abs(times[5]-cur_obs[\"timestamp\"])/3600 < 24 and 25 <= closest_chi and closest_chi < 1000 : #If most recent obs within a day\n",
    "    raw_cal = result_dict[cur_wafer][band][\"raw_cal\"][closest_idx]\n",
    "    chisq = closest_chi\n",
    "else:\n",
    "    raw_cal = np.mean(result_dict[cur_wafer][band][\"raw_cal\"])\n",
    "    chisq = 999999\n",
    "ndets = len(np.where((meta.preprocess.noise.white_noise[net_flag] != 0))[0])\n",
    "\n",
    "net_mes = 1/np.sqrt(2) * meta.preprocess.noise.white_noise[net_flag] * raw_cal * meta.det_cal.phase_to_pW[net_flag]\n",
    "clean_nets = []\n",
    "for net in net_mes:\n",
    "    if net*1e6 >= 125:\n",
    "        clean_nets.append(net)\n",
    "clean_nets = np.array(clean_nets)\n",
    "array_net = np.nansum((clean_nets*1e6)**(-2))**(-1/2)"
   ]
  },
  {
   "cell_type": "code",
   "execution_count": 87,
   "id": "4db07d42-1cf0-4868-a1ba-d9ded077e075",
   "metadata": {},
   "outputs": [],
   "source": [
    "net_dict[cur_wafer][band][\"raw_cal\"].append(raw_cal)\n",
    "net_dict[cur_wafer][band][\"chi\"].append(chisq)\n",
    "net_dict[cur_wafer][band][\"obs\"].append(cur_obs[\"obs_id\"])\n",
    "net_dict[cur_wafer][band][\"ndets\"].append(ndets)\n",
    "net_dict[cur_wafer][band][\"nets\"].append(array_net)\n",
    "net_dict[cur_wafer][band][\"el\"].append(abscal_dict[cur_wafer][band][\"el\"])\n",
    "net_dict[cur_wafer][band][\"pwv\"].append(abscal_dict[cur_wafer][band][\"pwv\"])"
   ]
  },
  {
   "cell_type": "code",
   "execution_count": 88,
   "id": "852bf91c-0a00-4537-a2d1-56007d82639b",
   "metadata": {},
   "outputs": [
    {
     "data": {
      "text/plain": [
       "dict_keys(['uv47', 'uv31', 'uv39', 'uv38', 'mv13', 'mv20', 'mv14', 'mv49', 'mv25', 'mv21', 'mv24'])"
      ]
     },
     "execution_count": 88,
     "metadata": {},
     "output_type": "execute_result"
    }
   ],
   "source": [
    "result_dict.keys()"
   ]
  },
  {
   "cell_type": "code",
   "execution_count": 52,
   "id": "880a2f5f-e615-4c9e-a003-a87be9b80524",
   "metadata": {},
   "outputs": [
    {
     "data": {
      "text/plain": [
       "np.float64(20.153454113403956)"
      ]
     },
     "execution_count": 52,
     "metadata": {},
     "output_type": "execute_result"
    }
   ],
   "source": []
  },
  {
   "cell_type": "code",
   "execution_count": null,
   "id": "70fc9538-7831-46dd-95e2-f04b0be10607",
   "metadata": {},
   "outputs": [],
   "source": []
  }
 ],
 "metadata": {
  "kernelspec": {
   "display_name": "sotodlib",
   "language": "python",
   "name": "sotodlib"
  },
  "language_info": {
   "codemirror_mode": {
    "name": "ipython",
    "version": 3
   },
   "file_extension": ".py",
   "mimetype": "text/x-python",
   "name": "python",
   "nbconvert_exporter": "python",
   "pygments_lexer": "ipython3",
   "version": "3.10.14"
  }
 },
 "nbformat": 4,
 "nbformat_minor": 5
}
