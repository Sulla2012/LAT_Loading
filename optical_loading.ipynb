{
 "cells": [
  {
   "cell_type": "code",
   "execution_count": 24,
   "id": "e44079be-4e46-469d-8939-d46525f4cb09",
   "metadata": {},
   "outputs": [
    {
     "name": "stdout",
     "output_type": "stream",
     "text": [
      "The autoreload extension is already loaded. To reload it, use:\n",
      "  %reload_ext autoreload\n"
     ]
    }
   ],
   "source": [
    "%matplotlib inline\n",
    "\n",
    "import numpy as np\n",
    "import datetime as dt\n",
    "import matplotlib.pyplot as plt\n",
    "\n",
    "from sotodlib import core\n",
    "import sotodlib.io.load_book as lb\n",
    "import so3g\n",
    "import sotodlib.tod_ops as tod_ops\n",
    "\n",
    "\n",
    "from so3g.hk import HKTree\n",
    "\n",
    "from dark_dets import get_ivs, get_dark_dets_num, get_dark_dets_thresh\n",
    "\n",
    "import dill as pk\n",
    "\n",
    "from optical_loading import load_ivs_from_times, get_obs_from_time, find_smurf_tune_file\n",
    "\n",
    "%load_ext autoreload\n",
    "%autoreload 2"
   ]
  },
  {
   "cell_type": "code",
   "execution_count": 33,
   "id": "325f68bf-2233-427b-a499-fb3bb5a28119",
   "metadata": {},
   "outputs": [],
   "source": [
    "with open(\"dark_dets.pk\", \"rb\") as f:\n",
    "    dark_dets = pk.load(f)"
   ]
  },
  {
   "cell_type": "code",
   "execution_count": 38,
   "id": "b1853776-5d2d-40be-8bf6-0c94dffa4bf4",
   "metadata": {},
   "outputs": [],
   "source": [
    "ufm_dict = {\"uv42\":{\"psat_dark\": 28.2, \"kappa\":None, \"G\":669},\n",
    "            \"uv47\":{\"psat_dark\": 31.4, \"kappa\":None, \"G\":780},\n",
    "            \"uv31\":{\"psat_dark\": 31.3, \"kappa\":None, \"G\":817},\n",
    "            \"uv39\":{\"psat_dark\": 22.3, \"kappa\":None, \"G\":708},\n",
    "            \"uv38\":{\"psat_dark\": 26.9, \"kappa\":None, \"G\":668},\n",
    "            \"uv46\":{\"psat_dark\": 33.9, \"kappa\":None, \"G\":808},\n",
    "            \"mv32\":{\"psat_dark\": 3.1, \"kappa\":978, \"G\":77},\n",
    "            \"mv49\":None,\n",
    "            \"mv14\":{\"psat_dark\": 2.7, \"kappa\":657, \"G\":59},\n",
    "            \"mv20\":{\"psat_dark\": 3.2, \"kappa\":849, \"G\":71},\n",
    "            \"mv13\":{\"psat_dark\": 2.9, \"kappa\":752, \"G\":66},\n",
    "            \"mv34\":{\"psat_dark\": 2.8, \"kappa\":887, \"G\":69},\n",
    "            \"mv11\":{\"psat_dark\": 3, \"kappa\":1004, \"G\":80},\n",
    "            \"mv25\":{\"psat_dark\": 3.5, \"kappa\":944, \"G\":78},\n",
    "            \"mv26\":{\"psat_dark\": 3.8, \"kappa\":1004, \"G\":80},\n",
    "            \"mv21\":{\"psat_dark\": 3.0, \"kappa\":1042, \"G\":80},\n",
    "            \"mv24\":{\"psat_dark\": 3.7, \"kappa\":980, \"G\":84},\n",
    "            \"mv28\":{\"psat_dark\": 3.7, \"kappa\":1004, \"G\":86}\n",
    "           }\n",
    "            \n",
    "            \n",
    "            "
   ]
  },
  {
   "cell_type": "code",
   "execution_count": 27,
   "id": "98941ce4-00bb-47af-8b37-44637a127561",
   "metadata": {},
   "outputs": [],
   "source": [
    "start: dt.datetime = dt.datetime(2025,2,20)\n",
    "end: dt.datetime = dt.datetime(2030,2,20)\n",
    "\n",
    "end = dt.datetime.now()\n",
    "ot = \"c1\"\n",
    "ctx = core.Context('/so/metadata/lat/contexts/smurf_detsets.yaml')\n",
    "obs_list = get_obs_from_time(ot=ot)"
   ]
  },
  {
   "cell_type": "code",
   "execution_count": 31,
   "id": "bdd4b825-bffd-474b-ac6e-57bb7dbe7a39",
   "metadata": {},
   "outputs": [
    {
     "data": {
      "text/plain": [
       "OrderedDict([('obs_id', 'oper_1740011147_latc1_010'),\n",
       "             ('timestamp', 1740011146.168648),\n",
       "             ('start_time', 1740011146.168648),\n",
       "             ('stop_time', 1740011270.388648),\n",
       "             ('n_samples', 24845),\n",
       "             ('telescope', 'lat'),\n",
       "             ('telescope_flavor', 'lat'),\n",
       "             ('tube_slot', 'c1'),\n",
       "             ('tube_flavor', 'uhf'),\n",
       "             ('type', 'oper'),\n",
       "             ('subtype', 'iv'),\n",
       "             ('wafer_count', 1),\n",
       "             ('detector_flavor', None),\n",
       "             ('duration', 124.22000002861023),\n",
       "             ('az_center', 178.9856531688327),\n",
       "             ('az_throw', 1.828681938320642e-05),\n",
       "             ('el_center', 59.059221122518395),\n",
       "             ('el_throw', 1.8096832071989866e-05),\n",
       "             ('roll_center', -0.10747207479948384),\n",
       "             ('roll_throw', 0.00011129414995036946),\n",
       "             ('wafer_slots_list', 'ws1'),\n",
       "             ('stream_ids_list', 'ufm_uv39')])"
      ]
     },
     "execution_count": 31,
     "metadata": {},
     "output_type": "execute_result"
    }
   ],
   "source": [
    "obs_list[0]"
   ]
  },
  {
   "cell_type": "code",
   "execution_count": 10,
   "id": "ec007540-2dd6-42f1-af58-73434972fa61",
   "metadata": {},
   "outputs": [],
   "source": []
  },
  {
   "cell_type": "code",
   "execution_count": 18,
   "id": "0d964217-0c97-4ec6-a4ad-bc67e40ea883",
   "metadata": {},
   "outputs": [],
   "source": [
    "ivs = load_ivs_from_times(\"c1\", start = dt.datetime(2025,2,20), end = dt.datetime(2025,2,28))"
   ]
  },
  {
   "cell_type": "code",
   "execution_count": 22,
   "id": "452692b3-d09e-4179-a54b-037f70c57af9",
   "metadata": {},
   "outputs": [],
   "source": [
    "ufm_name = ufm_names[0]\n",
    "obs_id = list(ivs[ufm_name].keys())[0]\n",
    "obs_iv = ivs[ufm_name][obs_id]\n",
    "tune_name = obs_iv['meta']['tunefile'].split('/')[-1]"
   ]
  },
  {
   "cell_type": "code",
   "execution_count": 25,
   "id": "67288eb9-6b88-47fd-b235-c75ef161caa5",
   "metadata": {},
   "outputs": [
    {
     "ename": "FileNotFoundError",
     "evalue": "[Errno 2] No such file or directory: '/so/level2-daq/lat/smurf/17400/uv38'",
     "output_type": "error",
     "traceback": [
      "\u001b[0;31m---------------------------------------------------------------------------\u001b[0m",
      "\u001b[0;31mFileNotFoundError\u001b[0m                         Traceback (most recent call last)",
      "File \u001b[0;32m~/dev/LAT_analysis/optical_loading.py:97\u001b[0m, in \u001b[0;36mfind_smurf_tune_file\u001b[0;34m(tune_name, ot, ufm_name)\u001b[0m\n\u001b[1;32m     96\u001b[0m tune_setup_filepath \u001b[38;5;241m=\u001b[39m \u001b[38;5;124mf\u001b[39m\u001b[38;5;124m\"\u001b[39m\u001b[38;5;124m/so/data/lat/smurf/smurf_\u001b[39m\u001b[38;5;132;01m{\u001b[39;00mtune_num\u001b[38;5;132;01m}\u001b[39;00m\u001b[38;5;124m_lat/\u001b[39m\u001b[38;5;132;01m{\u001b[39;00mufm_name\u001b[38;5;132;01m}\u001b[39;00m\u001b[38;5;124m\"\u001b[39m\n\u001b[0;32m---> 97\u001b[0m \u001b[38;5;28;01mfor\u001b[39;00m x \u001b[38;5;129;01min\u001b[39;00m \u001b[43mlistdir\u001b[49m\u001b[43m(\u001b[49m\u001b[43mtune_setup_filepath\u001b[49m\u001b[43m)\u001b[49m:\n\u001b[1;32m     98\u001b[0m     \u001b[38;5;28;01mif\u001b[39;00m \u001b[38;5;124m\"\u001b[39m\u001b[38;5;124muxm_setup\u001b[39m\u001b[38;5;124m\"\u001b[39m \u001b[38;5;129;01min\u001b[39;00m x \u001b[38;5;129;01mor\u001b[39;00m \u001b[38;5;124m\"\u001b[39m\u001b[38;5;124msetup_tune\u001b[39m\u001b[38;5;124m\"\u001b[39m \u001b[38;5;129;01min\u001b[39;00m x:\n",
      "\u001b[0;31mFileNotFoundError\u001b[0m: [Errno 2] No such file or directory: '/so/data/lat/smurf/smurf_17400_lat/uv38'",
      "\nDuring handling of the above exception, another exception occurred:\n",
      "\u001b[0;31mFileNotFoundError\u001b[0m                         Traceback (most recent call last)",
      "Cell \u001b[0;32mIn[25], line 1\u001b[0m\n\u001b[0;32m----> 1\u001b[0m tune_file \u001b[38;5;241m=\u001b[39m \u001b[43mfind_smurf_tune_file\u001b[49m\u001b[43m(\u001b[49m\u001b[43mtune_name\u001b[49m\u001b[43m,\u001b[49m\u001b[43m \u001b[49m\u001b[43mot\u001b[49m\u001b[43m,\u001b[49m\u001b[43m \u001b[49m\u001b[43mufm_name\u001b[49m\u001b[43m)\u001b[49m\n",
      "File \u001b[0;32m~/dev/LAT_analysis/optical_loading.py:111\u001b[0m, in \u001b[0;36mfind_smurf_tune_file\u001b[0;34m(tune_name, ot, ufm_name)\u001b[0m\n\u001b[1;32m    109\u001b[0m tune_num \u001b[38;5;241m=\u001b[39m tune_name[:\u001b[38;5;241m5\u001b[39m]\n\u001b[1;32m    110\u001b[0m tune_setup_filepath \u001b[38;5;241m=\u001b[39m \u001b[38;5;124mf\u001b[39m\u001b[38;5;124m\"\u001b[39m\u001b[38;5;124m/so/level2-daq/lat/smurf/\u001b[39m\u001b[38;5;132;01m{\u001b[39;00mtune_num\u001b[38;5;132;01m}\u001b[39;00m\u001b[38;5;124m/\u001b[39m\u001b[38;5;132;01m{\u001b[39;00mufm_name\u001b[38;5;132;01m}\u001b[39;00m\u001b[38;5;124m\"\u001b[39m\n\u001b[0;32m--> 111\u001b[0m \u001b[38;5;28;01mfor\u001b[39;00m x \u001b[38;5;129;01min\u001b[39;00m \u001b[43mlistdir\u001b[49m\u001b[43m(\u001b[49m\u001b[43mtune_setup_filepath\u001b[49m\u001b[43m)\u001b[49m:\n\u001b[1;32m    112\u001b[0m     \u001b[38;5;28;01mif\u001b[39;00m \u001b[38;5;124m\"\u001b[39m\u001b[38;5;124muxm_setup\u001b[39m\u001b[38;5;124m\"\u001b[39m \u001b[38;5;129;01min\u001b[39;00m x \u001b[38;5;129;01mor\u001b[39;00m \u001b[38;5;124m\"\u001b[39m\u001b[38;5;124msetup_tune\u001b[39m\u001b[38;5;124m\"\u001b[39m \u001b[38;5;129;01min\u001b[39;00m x:\n\u001b[1;32m    113\u001b[0m         \u001b[38;5;28;01mif\u001b[39;00m isfile(join(tune_setup_filepath, x, \u001b[38;5;124m\"\u001b[39m\u001b[38;5;124moutputs\u001b[39m\u001b[38;5;124m\"\u001b[39m, tune_name)):\n",
      "\u001b[0;31mFileNotFoundError\u001b[0m: [Errno 2] No such file or directory: '/so/level2-daq/lat/smurf/17400/uv38'"
     ]
    }
   ],
   "source": [
    "tune_file = find_smurf_tune_file(tune_name, ot, ufm_name)"
   ]
  },
  {
   "cell_type": "code",
   "execution_count": 26,
   "id": "247e144f-f8f8-43a7-9e4f-af29d2931211",
   "metadata": {},
   "outputs": [
    {
     "data": {
      "text/plain": [
       "'1740014809_tune.npy'"
      ]
     },
     "execution_count": 26,
     "metadata": {},
     "output_type": "execute_result"
    }
   ],
   "source": [
    "tune_name"
   ]
  },
  {
   "cell_type": "code",
   "execution_count": null,
   "id": "4bcdf872-8793-4a5a-a57b-143efe15bead",
   "metadata": {},
   "outputs": [],
   "source": []
  }
 ],
 "metadata": {
  "kernelspec": {
   "display_name": "soconda 0.1.4.dev250",
   "language": "python",
   "name": "soconda-0.1.4.dev250"
  },
  "language_info": {
   "codemirror_mode": {
    "name": "ipython",
    "version": 3
   },
   "file_extension": ".py",
   "mimetype": "text/x-python",
   "name": "python",
   "nbconvert_exporter": "python",
   "pygments_lexer": "ipython3",
   "version": "3.11.9"
  }
 },
 "nbformat": 4,
 "nbformat_minor": 5
}
