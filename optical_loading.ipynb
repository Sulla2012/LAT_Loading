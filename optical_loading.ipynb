{
 "cells": [
  {
   "cell_type": "code",
   "execution_count": 19,
   "id": "1f26cb46-8416-484d-afba-d71e8f08a9ff",
   "metadata": {},
   "outputs": [
    {
     "name": "stdout",
     "output_type": "stream",
     "text": [
      "The autoreload extension is already loaded. To reload it, use:\n",
      "  %reload_ext autoreload\n"
     ]
    }
   ],
   "source": [
    "%matplotlib inline\n",
    "\n",
    "import numpy as np\n",
    "import datetime as dt\n",
    "import matplotlib.pyplot as plt\n",
    "\n",
    "from sotodlib import core\n",
    "from sotodlib.core.metadata import ManifestDb, load_metadata\n",
    "import sotodlib.io.load_book as lb\n",
    "\n",
    "from optical_loading import pwv_interp, get_fpa_temps, UXM_dict, add_iv_info\n",
    "\n",
    "import dill as pk\n",
    "import os\n",
    "\n",
    "%load_ext autoreload\n",
    "%autoreload 2"
   ]
  },
  {
   "cell_type": "code",
   "execution_count": 3,
   "id": "7021ad18-ae87-44c5-924e-62937bdc64fc",
   "metadata": {},
   "outputs": [],
   "source": [
    "#lat_baseline = core.AxisManager.load(\"v3r7_baseline_pwv_el_sweep_LAT.h5\")\n",
    "#lat_goal = core.AxisManager.load(\"v3r7_goal_pwv_el_sweep_LAT.h5\")\n",
    "#edx = np.where( np.isclose(lat_goal.elevations,50) )[0][0]"
   ]
  },
  {
   "cell_type": "code",
   "execution_count": 4,
   "id": "042f3199-1f12-4c05-8d37-cf334ff11437",
   "metadata": {},
   "outputs": [],
   "source": [
    "with open(\"opt_load_det.pk\", \"rb\") as f:\n",
    "    optical_loading_detectors = pk.load(f)"
   ]
  },
  {
   "cell_type": "code",
   "execution_count": 5,
   "id": "b5d139b1-5abd-4e9a-865a-9506496e35d6",
   "metadata": {},
   "outputs": [],
   "source": [
    "## context for loading data\n",
    "ctx = core.Context('/so/metadata/lat/contexts/smurf_detsets.yaml')\n"
   ]
  },
  {
   "cell_type": "code",
   "execution_count": 15,
   "id": "2158e033-523b-45fa-9f6e-7740a9f30441",
   "metadata": {},
   "outputs": [],
   "source": [
    "ufm = \"uv38\"\n",
    "\n",
    "if \"uv\" in ufm:\n",
    "    ufm_type=\"UHF\"\n",
    "    ufm_1 = \"UHF_1\"\n",
    "    ufm_2 = \"UHF_2\"\n",
    "    low_freq = \"220\"\n",
    "    high_freq = \"280\"\n",
    "\n",
    "elif \"mv\" in ufm:\n",
    "    ufm_type=\"MF\"\n",
    "    ufm_1 = \"MF_1\"\n",
    "    ufm_2 = \"MF_2\"\n",
    "    low_freq = \"090\"\n",
    "    high_freq = \"150\"\n",
    "\n",
    "else:\n",
    "    ufm_type=\"LF\"\n",
    "    ufm_1 = \"LF_1\"\n",
    "    ufm_2 = \"LF_2\"\n",
    "    low_freq = \"030\"\n",
    "    high_freq = \"040\"\n",
    "\n",
    "start = dt.datetime(2025,3,1, tzinfo=dt.timezone.utc)\n",
    "end = dt.datetime(2025,4,28, tzinfo=dt.timezone.utc)\n",
    "obs_list = ctx.obsdb.query(\n",
    "    f\"{end.timestamp()} > timestamp and timestamp > {start.timestamp()} and type=='oper' and subtype=='iv'\"\n",
    "    \" and stream_ids_list == 'ufm_{}'\".format(ufm)\n",
    ")\n"
   ]
  },
  {
   "cell_type": "code",
   "execution_count": 16,
   "id": "0f8100e3-f90a-494b-b6ba-f6d63a99fdee",
   "metadata": {},
   "outputs": [
    {
     "data": {
      "text/plain": [
       "ResultSet<[obs_id,timestamp,start_time,stop_time,n_samples,telescope,telescope_flavor,tube_slot,tube_flavor,type,subtype,wafer_count,detector_flavor,duration,az_center,az_throw,el_center,el_throw,roll_center,roll_throw,wafer_slots_list,stream_ids_list], 307 rows>"
      ]
     },
     "execution_count": 16,
     "metadata": {},
     "output_type": "execute_result"
    }
   ],
   "source": [
    "obs_list"
   ]
  },
  {
   "cell_type": "code",
   "execution_count": 17,
   "id": "693d78d3-e648-4ffb-a9c4-cc2622aaea86",
   "metadata": {},
   "outputs": [],
   "source": [
    "## from above, I know obs_list has only one stream_id in it\n",
    "\n",
    "singles = []\n",
    "obs_start = 0\n",
    "obs_end = len(obs_list)\n",
    "for i in range(obs_start,obs_end):\n",
    "    obs = obs_list[i]\n",
    "    meta = ctx.get_meta(obs)\n",
    "    try:\n",
    "        add_iv_info(meta, ctx)\n",
    "        singles.append(meta)\n",
    "    except FileNotFoundError:\n",
    "        print(meta.obs_info.obs_id)\n",
    "x = [m.dets.count for m in singles]\n",
    "flags = np.array([i for i, l in enumerate(x) if l == min(x)])\n",
    "x = np.array(x)[flags]\n",
    "singles = np.array(singles)[flags]\n",
    "obs_list = np.array(obs_list)[flags] \n",
    "assert min(x) == max(x), \"Need to add some additional checks if channel counts are changing\""
   ]
  },
  {
   "cell_type": "code",
   "execution_count": 109,
   "id": "9d233e73-2d9a-4a9e-91fd-15a9ef1e7231",
   "metadata": {
    "tags": []
   },
   "outputs": [
    {
     "ename": "TypeError",
     "evalue": "Object dtype dtype('O') has no native HDF5 equivalent",
     "output_type": "error",
     "traceback": [
      "\u001b[0;31m---------------------------------------------------------------------------\u001b[0m",
      "\u001b[0;31mTypeError\u001b[0m                                 Traceback (most recent call last)",
      "Cell \u001b[0;32mIn[109], line 57\u001b[0m\n\u001b[1;32m     53\u001b[0m all_iv_data\u001b[38;5;241m.\u001b[39mwrap(\u001b[38;5;124m'\u001b[39m\u001b[38;5;124miv\u001b[39m\u001b[38;5;124m'\u001b[39m, iv_data)\n\u001b[1;32m     55\u001b[0m all_iv_data\u001b[38;5;241m.\u001b[39mobs_info\u001b[38;5;241m.\u001b[39mmove(\u001b[38;5;124m\"\u001b[39m\u001b[38;5;124mdetector_flavor\u001b[39m\u001b[38;5;124m\"\u001b[39m, new_name\u001b[38;5;241m=\u001b[39m\u001b[38;5;28;01mNone\u001b[39;00m)\n\u001b[0;32m---> 57\u001b[0m \u001b[43mall_iv_data\u001b[49m\u001b[38;5;241;43m.\u001b[39;49m\u001b[43msave\u001b[49m\u001b[43m(\u001b[49m\u001b[43miv_fname\u001b[49m\u001b[43m,\u001b[49m\u001b[43m \u001b[49m\u001b[43moverwrite\u001b[49m\u001b[38;5;241;43m=\u001b[39;49m\u001b[38;5;28;43;01mTrue\u001b[39;49;00m\u001b[43m)\u001b[49m\n\u001b[1;32m     58\u001b[0m obs_info\u001b[38;5;241m.\u001b[39msave(obs_fname, overwrite\u001b[38;5;241m=\u001b[39m\u001b[38;5;28;01mTrue\u001b[39;00m)\n",
      "File \u001b[0;32m/data/conda/envs/soconda_0.1.4.dev250/lib/python3.11/site-packages/sotodlib/core/axisman.py:961\u001b[0m, in \u001b[0;36mAxisManager.save\u001b[0;34m(self, dest, group, overwrite, compression)\u001b[0m\n\u001b[1;32m    912\u001b[0m \u001b[38;5;250m\u001b[39m\u001b[38;5;124;03m\"\"\"Write this AxisManager data to an HDF5 group.  This is an\u001b[39;00m\n\u001b[1;32m    913\u001b[0m \u001b[38;5;124;03mexperimental feature primarily intended to assist with\u001b[39;00m\n\u001b[1;32m    914\u001b[0m \u001b[38;5;124;03mdebugging.  The schema is subject to change, and it's possible\u001b[39;00m\n\u001b[0;32m   (...)\u001b[0m\n\u001b[1;32m    958\u001b[0m \n\u001b[1;32m    959\u001b[0m \u001b[38;5;124;03m\"\"\"\u001b[39;00m\n\u001b[1;32m    960\u001b[0m \u001b[38;5;28;01mfrom\u001b[39;00m \u001b[38;5;21;01m.\u001b[39;00m\u001b[38;5;21;01maxisman_io\u001b[39;00m \u001b[38;5;28;01mimport\u001b[39;00m _save_axisman\n\u001b[0;32m--> 961\u001b[0m \u001b[38;5;28;01mreturn\u001b[39;00m \u001b[43m_save_axisman\u001b[49m\u001b[43m(\u001b[49m\u001b[38;5;28;43mself\u001b[39;49m\u001b[43m,\u001b[49m\u001b[43m \u001b[49m\u001b[43mdest\u001b[49m\u001b[43m,\u001b[49m\u001b[43m \u001b[49m\u001b[43mgroup\u001b[49m\u001b[38;5;241;43m=\u001b[39;49m\u001b[43mgroup\u001b[49m\u001b[43m,\u001b[49m\u001b[43m \u001b[49m\u001b[43moverwrite\u001b[49m\u001b[38;5;241;43m=\u001b[39;49m\u001b[43moverwrite\u001b[49m\u001b[43m,\u001b[49m\u001b[43m \u001b[49m\u001b[43mcompression\u001b[49m\u001b[38;5;241;43m=\u001b[39;49m\u001b[43mcompression\u001b[49m\u001b[43m)\u001b[49m\n",
      "File \u001b[0;32m/data/conda/envs/soconda_0.1.4.dev250/lib/python3.11/site-packages/sotodlib/core/axisman_io.py:248\u001b[0m, in \u001b[0;36m_save_axisman\u001b[0;34m(axisman, dest, group, overwrite, compression)\u001b[0m\n\u001b[1;32m    246\u001b[0m \u001b[38;5;28;01melif\u001b[39;00m item[\u001b[38;5;124m'\u001b[39m\u001b[38;5;124mencoding\u001b[39m\u001b[38;5;124m'\u001b[39m] \u001b[38;5;241m==\u001b[39m \u001b[38;5;124m'\u001b[39m\u001b[38;5;124maxisman\u001b[39m\u001b[38;5;124m'\u001b[39m:\n\u001b[1;32m    247\u001b[0m     g \u001b[38;5;241m=\u001b[39m dest\u001b[38;5;241m.\u001b[39mcreate_group(item[\u001b[38;5;124m'\u001b[39m\u001b[38;5;124mname\u001b[39m\u001b[38;5;124m'\u001b[39m])\n\u001b[0;32m--> 248\u001b[0m     \u001b[43m_save_axisman\u001b[49m\u001b[43m(\u001b[49m\u001b[43mdata\u001b[49m\u001b[43m,\u001b[49m\u001b[43m \u001b[49m\u001b[43mg\u001b[49m\u001b[43m,\u001b[49m\u001b[43m \u001b[49m\u001b[43mcompression\u001b[49m\u001b[38;5;241;43m=\u001b[39;49m\u001b[43mcompression\u001b[49m\u001b[43m)\u001b[49m\n\u001b[1;32m    249\u001b[0m \u001b[38;5;28;01melif\u001b[39;00m item[\u001b[38;5;124m'\u001b[39m\u001b[38;5;124mencoding\u001b[39m\u001b[38;5;124m'\u001b[39m] \u001b[38;5;241m==\u001b[39m \u001b[38;5;124m'\u001b[39m\u001b[38;5;124maxis\u001b[39m\u001b[38;5;124m'\u001b[39m:\n\u001b[1;32m    250\u001b[0m     \u001b[38;5;28;01mpass\u001b[39;00m \u001b[38;5;66;03m#\u001b[39;00m\n",
      "File \u001b[0;32m/data/conda/envs/soconda_0.1.4.dev250/lib/python3.11/site-packages/sotodlib/core/axisman_io.py:231\u001b[0m, in \u001b[0;36m_save_axisman\u001b[0;34m(axisman, dest, group, overwrite, compression)\u001b[0m\n\u001b[1;32m    229\u001b[0m     scalars[item[\u001b[38;5;124m'\u001b[39m\u001b[38;5;124mname\u001b[39m\u001b[38;5;124m'\u001b[39m]] \u001b[38;5;241m=\u001b[39m data\n\u001b[1;32m    230\u001b[0m \u001b[38;5;28;01melif\u001b[39;00m item[\u001b[38;5;124m'\u001b[39m\u001b[38;5;124mencoding\u001b[39m\u001b[38;5;124m'\u001b[39m] \u001b[38;5;241m==\u001b[39m \u001b[38;5;124m'\u001b[39m\u001b[38;5;124mndarray\u001b[39m\u001b[38;5;124m'\u001b[39m:\n\u001b[0;32m--> 231\u001b[0m     \u001b[43mdest\u001b[49m\u001b[38;5;241;43m.\u001b[39;49m\u001b[43mcreate_dataset\u001b[49m\u001b[43m(\u001b[49m\u001b[43mitem\u001b[49m\u001b[43m[\u001b[49m\u001b[38;5;124;43m'\u001b[39;49m\u001b[38;5;124;43mname\u001b[39;49m\u001b[38;5;124;43m'\u001b[39;49m\u001b[43m]\u001b[49m\u001b[43m,\u001b[49m\u001b[43m \u001b[49m\u001b[43mdata\u001b[49m\u001b[38;5;241;43m=\u001b[39;49m\u001b[43m_retype_for_write\u001b[49m\u001b[43m(\u001b[49m\u001b[43mdata\u001b[49m\u001b[43m)\u001b[49m\u001b[43m,\u001b[49m\u001b[43m \u001b[49m\u001b[43mcompression\u001b[49m\u001b[38;5;241;43m=\u001b[39;49m\u001b[43mcompression\u001b[49m\u001b[43m)\u001b[49m\n\u001b[1;32m    232\u001b[0m \u001b[38;5;28;01melif\u001b[39;00m item[\u001b[38;5;124m'\u001b[39m\u001b[38;5;124mencoding\u001b[39m\u001b[38;5;124m'\u001b[39m] \u001b[38;5;241m==\u001b[39m \u001b[38;5;124m'\u001b[39m\u001b[38;5;124mquantity\u001b[39m\u001b[38;5;124m'\u001b[39m:\n\u001b[1;32m    233\u001b[0m     dest\u001b[38;5;241m.\u001b[39mcreate_dataset(item[\u001b[38;5;124m'\u001b[39m\u001b[38;5;124mname\u001b[39m\u001b[38;5;124m'\u001b[39m], data\u001b[38;5;241m=\u001b[39m_retype_for_write(data), compression\u001b[38;5;241m=\u001b[39mcompression)\n",
      "File \u001b[0;32m/data/conda/envs/soconda_0.1.4.dev250/lib/python3.11/site-packages/h5py/_hl/group.py:183\u001b[0m, in \u001b[0;36mGroup.create_dataset\u001b[0;34m(self, name, shape, dtype, data, **kwds)\u001b[0m\n\u001b[1;32m    180\u001b[0m         parent_path, name \u001b[38;5;241m=\u001b[39m name\u001b[38;5;241m.\u001b[39mrsplit(\u001b[38;5;124mb\u001b[39m\u001b[38;5;124m'\u001b[39m\u001b[38;5;124m/\u001b[39m\u001b[38;5;124m'\u001b[39m, \u001b[38;5;241m1\u001b[39m)\n\u001b[1;32m    181\u001b[0m         group \u001b[38;5;241m=\u001b[39m \u001b[38;5;28mself\u001b[39m\u001b[38;5;241m.\u001b[39mrequire_group(parent_path)\n\u001b[0;32m--> 183\u001b[0m dsid \u001b[38;5;241m=\u001b[39m \u001b[43mdataset\u001b[49m\u001b[38;5;241;43m.\u001b[39;49m\u001b[43mmake_new_dset\u001b[49m\u001b[43m(\u001b[49m\u001b[43mgroup\u001b[49m\u001b[43m,\u001b[49m\u001b[43m \u001b[49m\u001b[43mshape\u001b[49m\u001b[43m,\u001b[49m\u001b[43m \u001b[49m\u001b[43mdtype\u001b[49m\u001b[43m,\u001b[49m\u001b[43m \u001b[49m\u001b[43mdata\u001b[49m\u001b[43m,\u001b[49m\u001b[43m \u001b[49m\u001b[43mname\u001b[49m\u001b[43m,\u001b[49m\u001b[43m \u001b[49m\u001b[38;5;241;43m*\u001b[39;49m\u001b[38;5;241;43m*\u001b[39;49m\u001b[43mkwds\u001b[49m\u001b[43m)\u001b[49m\n\u001b[1;32m    184\u001b[0m dset \u001b[38;5;241m=\u001b[39m dataset\u001b[38;5;241m.\u001b[39mDataset(dsid)\n\u001b[1;32m    185\u001b[0m \u001b[38;5;28;01mreturn\u001b[39;00m dset\n",
      "File \u001b[0;32m/data/conda/envs/soconda_0.1.4.dev250/lib/python3.11/site-packages/h5py/_hl/dataset.py:86\u001b[0m, in \u001b[0;36mmake_new_dset\u001b[0;34m(parent, shape, dtype, data, name, chunks, compression, shuffle, fletcher32, maxshape, compression_opts, fillvalue, scaleoffset, track_times, external, track_order, dcpl, dapl, efile_prefix, virtual_prefix, allow_unknown_filter, rdcc_nslots, rdcc_nbytes, rdcc_w0)\u001b[0m\n\u001b[1;32m     84\u001b[0m     \u001b[38;5;28;01melse\u001b[39;00m:\n\u001b[1;32m     85\u001b[0m         dtype \u001b[38;5;241m=\u001b[39m numpy\u001b[38;5;241m.\u001b[39mdtype(dtype)\n\u001b[0;32m---> 86\u001b[0m     tid \u001b[38;5;241m=\u001b[39m \u001b[43mh5t\u001b[49m\u001b[38;5;241;43m.\u001b[39;49m\u001b[43mpy_create\u001b[49m\u001b[43m(\u001b[49m\u001b[43mdtype\u001b[49m\u001b[43m,\u001b[49m\u001b[43m \u001b[49m\u001b[43mlogical\u001b[49m\u001b[38;5;241;43m=\u001b[39;49m\u001b[38;5;241;43m1\u001b[39;49m\u001b[43m)\u001b[49m\n\u001b[1;32m     88\u001b[0m \u001b[38;5;66;03m# Legacy\u001b[39;00m\n\u001b[1;32m     89\u001b[0m \u001b[38;5;28;01mif\u001b[39;00m \u001b[38;5;28many\u001b[39m((compression, shuffle, fletcher32, maxshape, scaleoffset)) \u001b[38;5;129;01mand\u001b[39;00m chunks \u001b[38;5;129;01mis\u001b[39;00m \u001b[38;5;28;01mFalse\u001b[39;00m:\n",
      "File \u001b[0;32mh5py/h5t.pyx:1663\u001b[0m, in \u001b[0;36mh5py.h5t.py_create\u001b[0;34m()\u001b[0m\n",
      "File \u001b[0;32mh5py/h5t.pyx:1687\u001b[0m, in \u001b[0;36mh5py.h5t.py_create\u001b[0;34m()\u001b[0m\n",
      "File \u001b[0;32mh5py/h5t.pyx:1747\u001b[0m, in \u001b[0;36mh5py.h5t.py_create\u001b[0;34m()\u001b[0m\n",
      "\u001b[0;31mTypeError\u001b[0m: Object dtype dtype('O') has no native HDF5 equivalent"
     ]
    }
   ],
   "source": [
    "iv_fname = \"./ivs/all_ivs_{}.h5\".format(ufm)\n",
    "obs_fname = \"./ivs/obs_info_{}.hf\".format(ufm)\n",
    "if os.path.exists(iv_fname) and os.path.exists(obs_fname):\n",
    "    with open(iv_fname, \"wb\") as f:\n",
    "        all_iv_data = core.AxisManager.load(iv_fname)\n",
    "    with open(obs_fname, \"wb\") as f:\n",
    "        obs_info = core.AxisManager.load(obs_fname)\n",
    "\n",
    "else:\n",
    "\n",
    "all_iv_data = core.AxisManager(\n",
    "    singles[0].dets,\n",
    "    core.IndexAxis('obs', len(singles)),\n",
    ")\n",
    "\n",
    "pwv = pwv_interp()\n",
    "\n",
    "obs_info = core.AxisManager(all_iv_data.obs)\n",
    "for f in singles[0].obs_info._fields.keys():\n",
    "    #if f == \"obs_id\":\n",
    "    #    print(f'<U{np.max([len(obs_id) for obs_id in singles[0].obs_info[f]])}')\n",
    "    #    obs_info.wrap_new( f, ('obs',), dtype=f'<U{np.max([len(obs_id) for obs_id in singles[0].obs_info[f]])}>')\n",
    "    #else:\n",
    "        obs_info.wrap_new( f, ('obs',), dtype=type(singles[0].obs_info[f]))\n",
    "\n",
    "#Add pwv\n",
    "obs_info.wrap_new(\"pwv\", ('obs',), dtype=float)\n",
    "obs_info.wrap_new(\"ufm_temp\", ('obs',), dtype=float)\n",
    "\n",
    "fpa_temps = get_fpa_temps(obs_list[obs_start:obs_end])\n",
    "\n",
    "for m, meta in enumerate(singles):\n",
    "    for f in singles[0].obs_info._fields.keys():\n",
    "        obs_info[f][m] = meta.obs_info[f]\n",
    "        if f == \"obs_id\":\n",
    "            obs_info[f][m] = \"test\"\n",
    "    obs_info[\"pwv\"][m] = pwv((obs_info[\"start_time\"][m] + obs_info[\"stop_time\"][m])/2)\n",
    "    obs_info[\"ufm_temp\"][m] = fpa_temps[m]\n",
    "\n",
    "all_iv_data.wrap('obs_info', obs_info)\n",
    "all_iv_data.wrap('det_info', singles[0].det_info)\n",
    "# don't have a focal plane yet\n",
    "#all_iv_data.wrap('focal_plane', singles[0].focal_plane)\n",
    "\n",
    "iv_data = core.AxisManager( all_iv_data.dets, all_iv_data.obs)\n",
    "for f in singles[0].iv._fields.keys():\n",
    "    iv_data.wrap_new(f, ('dets','obs'), dtype=type(singles[0].iv[f]))\n",
    "    iv_data[f] *= np.nan\n",
    "\n",
    "for m, meta in enumerate(singles):\n",
    "    for f in singles[0].iv._fields.keys():\n",
    "        iv_data[f][:,m] = meta.iv[f][:]\n",
    "all_iv_data.wrap('iv', iv_data)\n",
    "\n",
    "all_iv_data.obs_info.move(\"detector_flavor\", new_name=None)\n",
    "\n",
    "all_iv_data.save(iv_fname, overwrite=True)\n",
    "obs_info.save(obs_fname, overwrite=True)"
   ]
  },
  {
   "cell_type": "code",
   "execution_count": 110,
   "id": "6d181b43-bd3e-4468-94e3-30223cd84f3b",
   "metadata": {},
   "outputs": [
    {
     "ename": "TypeError",
     "evalue": "Object dtype dtype('O') has no native HDF5 equivalent",
     "output_type": "error",
     "traceback": [
      "\u001b[0;31m---------------------------------------------------------------------------\u001b[0m",
      "\u001b[0;31mTypeError\u001b[0m                                 Traceback (most recent call last)",
      "Cell \u001b[0;32mIn[110], line 2\u001b[0m\n\u001b[1;32m      1\u001b[0m all_iv_data\u001b[38;5;241m.\u001b[39miv\u001b[38;5;241m.\u001b[39mmove(\u001b[38;5;124m\"\u001b[39m\u001b[38;5;124mbgmap\u001b[39m\u001b[38;5;124m\"\u001b[39m, new_name\u001b[38;5;241m=\u001b[39m\u001b[38;5;28;01mNone\u001b[39;00m)\n\u001b[0;32m----> 2\u001b[0m \u001b[43mall_iv_data\u001b[49m\u001b[38;5;241;43m.\u001b[39;49m\u001b[43msave\u001b[49m\u001b[43m(\u001b[49m\u001b[43miv_fname\u001b[49m\u001b[43m,\u001b[49m\u001b[43m \u001b[49m\u001b[43moverwrite\u001b[49m\u001b[38;5;241;43m=\u001b[39;49m\u001b[38;5;28;43;01mTrue\u001b[39;49;00m\u001b[43m)\u001b[49m\n",
      "File \u001b[0;32m/data/conda/envs/soconda_0.1.4.dev250/lib/python3.11/site-packages/sotodlib/core/axisman.py:961\u001b[0m, in \u001b[0;36mAxisManager.save\u001b[0;34m(self, dest, group, overwrite, compression)\u001b[0m\n\u001b[1;32m    912\u001b[0m \u001b[38;5;250m\u001b[39m\u001b[38;5;124;03m\"\"\"Write this AxisManager data to an HDF5 group.  This is an\u001b[39;00m\n\u001b[1;32m    913\u001b[0m \u001b[38;5;124;03mexperimental feature primarily intended to assist with\u001b[39;00m\n\u001b[1;32m    914\u001b[0m \u001b[38;5;124;03mdebugging.  The schema is subject to change, and it's possible\u001b[39;00m\n\u001b[0;32m   (...)\u001b[0m\n\u001b[1;32m    958\u001b[0m \n\u001b[1;32m    959\u001b[0m \u001b[38;5;124;03m\"\"\"\u001b[39;00m\n\u001b[1;32m    960\u001b[0m \u001b[38;5;28;01mfrom\u001b[39;00m \u001b[38;5;21;01m.\u001b[39;00m\u001b[38;5;21;01maxisman_io\u001b[39;00m \u001b[38;5;28;01mimport\u001b[39;00m _save_axisman\n\u001b[0;32m--> 961\u001b[0m \u001b[38;5;28;01mreturn\u001b[39;00m \u001b[43m_save_axisman\u001b[49m\u001b[43m(\u001b[49m\u001b[38;5;28;43mself\u001b[39;49m\u001b[43m,\u001b[49m\u001b[43m \u001b[49m\u001b[43mdest\u001b[49m\u001b[43m,\u001b[49m\u001b[43m \u001b[49m\u001b[43mgroup\u001b[49m\u001b[38;5;241;43m=\u001b[39;49m\u001b[43mgroup\u001b[49m\u001b[43m,\u001b[49m\u001b[43m \u001b[49m\u001b[43moverwrite\u001b[49m\u001b[38;5;241;43m=\u001b[39;49m\u001b[43moverwrite\u001b[49m\u001b[43m,\u001b[49m\u001b[43m \u001b[49m\u001b[43mcompression\u001b[49m\u001b[38;5;241;43m=\u001b[39;49m\u001b[43mcompression\u001b[49m\u001b[43m)\u001b[49m\n",
      "File \u001b[0;32m/data/conda/envs/soconda_0.1.4.dev250/lib/python3.11/site-packages/sotodlib/core/axisman_io.py:248\u001b[0m, in \u001b[0;36m_save_axisman\u001b[0;34m(axisman, dest, group, overwrite, compression)\u001b[0m\n\u001b[1;32m    246\u001b[0m \u001b[38;5;28;01melif\u001b[39;00m item[\u001b[38;5;124m'\u001b[39m\u001b[38;5;124mencoding\u001b[39m\u001b[38;5;124m'\u001b[39m] \u001b[38;5;241m==\u001b[39m \u001b[38;5;124m'\u001b[39m\u001b[38;5;124maxisman\u001b[39m\u001b[38;5;124m'\u001b[39m:\n\u001b[1;32m    247\u001b[0m     g \u001b[38;5;241m=\u001b[39m dest\u001b[38;5;241m.\u001b[39mcreate_group(item[\u001b[38;5;124m'\u001b[39m\u001b[38;5;124mname\u001b[39m\u001b[38;5;124m'\u001b[39m])\n\u001b[0;32m--> 248\u001b[0m     \u001b[43m_save_axisman\u001b[49m\u001b[43m(\u001b[49m\u001b[43mdata\u001b[49m\u001b[43m,\u001b[49m\u001b[43m \u001b[49m\u001b[43mg\u001b[49m\u001b[43m,\u001b[49m\u001b[43m \u001b[49m\u001b[43mcompression\u001b[49m\u001b[38;5;241;43m=\u001b[39;49m\u001b[43mcompression\u001b[49m\u001b[43m)\u001b[49m\n\u001b[1;32m    249\u001b[0m \u001b[38;5;28;01melif\u001b[39;00m item[\u001b[38;5;124m'\u001b[39m\u001b[38;5;124mencoding\u001b[39m\u001b[38;5;124m'\u001b[39m] \u001b[38;5;241m==\u001b[39m \u001b[38;5;124m'\u001b[39m\u001b[38;5;124maxis\u001b[39m\u001b[38;5;124m'\u001b[39m:\n\u001b[1;32m    250\u001b[0m     \u001b[38;5;28;01mpass\u001b[39;00m \u001b[38;5;66;03m#\u001b[39;00m\n",
      "File \u001b[0;32m/data/conda/envs/soconda_0.1.4.dev250/lib/python3.11/site-packages/sotodlib/core/axisman_io.py:231\u001b[0m, in \u001b[0;36m_save_axisman\u001b[0;34m(axisman, dest, group, overwrite, compression)\u001b[0m\n\u001b[1;32m    229\u001b[0m     scalars[item[\u001b[38;5;124m'\u001b[39m\u001b[38;5;124mname\u001b[39m\u001b[38;5;124m'\u001b[39m]] \u001b[38;5;241m=\u001b[39m data\n\u001b[1;32m    230\u001b[0m \u001b[38;5;28;01melif\u001b[39;00m item[\u001b[38;5;124m'\u001b[39m\u001b[38;5;124mencoding\u001b[39m\u001b[38;5;124m'\u001b[39m] \u001b[38;5;241m==\u001b[39m \u001b[38;5;124m'\u001b[39m\u001b[38;5;124mndarray\u001b[39m\u001b[38;5;124m'\u001b[39m:\n\u001b[0;32m--> 231\u001b[0m     \u001b[43mdest\u001b[49m\u001b[38;5;241;43m.\u001b[39;49m\u001b[43mcreate_dataset\u001b[49m\u001b[43m(\u001b[49m\u001b[43mitem\u001b[49m\u001b[43m[\u001b[49m\u001b[38;5;124;43m'\u001b[39;49m\u001b[38;5;124;43mname\u001b[39;49m\u001b[38;5;124;43m'\u001b[39;49m\u001b[43m]\u001b[49m\u001b[43m,\u001b[49m\u001b[43m \u001b[49m\u001b[43mdata\u001b[49m\u001b[38;5;241;43m=\u001b[39;49m\u001b[43m_retype_for_write\u001b[49m\u001b[43m(\u001b[49m\u001b[43mdata\u001b[49m\u001b[43m)\u001b[49m\u001b[43m,\u001b[49m\u001b[43m \u001b[49m\u001b[43mcompression\u001b[49m\u001b[38;5;241;43m=\u001b[39;49m\u001b[43mcompression\u001b[49m\u001b[43m)\u001b[49m\n\u001b[1;32m    232\u001b[0m \u001b[38;5;28;01melif\u001b[39;00m item[\u001b[38;5;124m'\u001b[39m\u001b[38;5;124mencoding\u001b[39m\u001b[38;5;124m'\u001b[39m] \u001b[38;5;241m==\u001b[39m \u001b[38;5;124m'\u001b[39m\u001b[38;5;124mquantity\u001b[39m\u001b[38;5;124m'\u001b[39m:\n\u001b[1;32m    233\u001b[0m     dest\u001b[38;5;241m.\u001b[39mcreate_dataset(item[\u001b[38;5;124m'\u001b[39m\u001b[38;5;124mname\u001b[39m\u001b[38;5;124m'\u001b[39m], data\u001b[38;5;241m=\u001b[39m_retype_for_write(data), compression\u001b[38;5;241m=\u001b[39mcompression)\n",
      "File \u001b[0;32m/data/conda/envs/soconda_0.1.4.dev250/lib/python3.11/site-packages/h5py/_hl/group.py:183\u001b[0m, in \u001b[0;36mGroup.create_dataset\u001b[0;34m(self, name, shape, dtype, data, **kwds)\u001b[0m\n\u001b[1;32m    180\u001b[0m         parent_path, name \u001b[38;5;241m=\u001b[39m name\u001b[38;5;241m.\u001b[39mrsplit(\u001b[38;5;124mb\u001b[39m\u001b[38;5;124m'\u001b[39m\u001b[38;5;124m/\u001b[39m\u001b[38;5;124m'\u001b[39m, \u001b[38;5;241m1\u001b[39m)\n\u001b[1;32m    181\u001b[0m         group \u001b[38;5;241m=\u001b[39m \u001b[38;5;28mself\u001b[39m\u001b[38;5;241m.\u001b[39mrequire_group(parent_path)\n\u001b[0;32m--> 183\u001b[0m dsid \u001b[38;5;241m=\u001b[39m \u001b[43mdataset\u001b[49m\u001b[38;5;241;43m.\u001b[39;49m\u001b[43mmake_new_dset\u001b[49m\u001b[43m(\u001b[49m\u001b[43mgroup\u001b[49m\u001b[43m,\u001b[49m\u001b[43m \u001b[49m\u001b[43mshape\u001b[49m\u001b[43m,\u001b[49m\u001b[43m \u001b[49m\u001b[43mdtype\u001b[49m\u001b[43m,\u001b[49m\u001b[43m \u001b[49m\u001b[43mdata\u001b[49m\u001b[43m,\u001b[49m\u001b[43m \u001b[49m\u001b[43mname\u001b[49m\u001b[43m,\u001b[49m\u001b[43m \u001b[49m\u001b[38;5;241;43m*\u001b[39;49m\u001b[38;5;241;43m*\u001b[39;49m\u001b[43mkwds\u001b[49m\u001b[43m)\u001b[49m\n\u001b[1;32m    184\u001b[0m dset \u001b[38;5;241m=\u001b[39m dataset\u001b[38;5;241m.\u001b[39mDataset(dsid)\n\u001b[1;32m    185\u001b[0m \u001b[38;5;28;01mreturn\u001b[39;00m dset\n",
      "File \u001b[0;32m/data/conda/envs/soconda_0.1.4.dev250/lib/python3.11/site-packages/h5py/_hl/dataset.py:86\u001b[0m, in \u001b[0;36mmake_new_dset\u001b[0;34m(parent, shape, dtype, data, name, chunks, compression, shuffle, fletcher32, maxshape, compression_opts, fillvalue, scaleoffset, track_times, external, track_order, dcpl, dapl, efile_prefix, virtual_prefix, allow_unknown_filter, rdcc_nslots, rdcc_nbytes, rdcc_w0)\u001b[0m\n\u001b[1;32m     84\u001b[0m     \u001b[38;5;28;01melse\u001b[39;00m:\n\u001b[1;32m     85\u001b[0m         dtype \u001b[38;5;241m=\u001b[39m numpy\u001b[38;5;241m.\u001b[39mdtype(dtype)\n\u001b[0;32m---> 86\u001b[0m     tid \u001b[38;5;241m=\u001b[39m \u001b[43mh5t\u001b[49m\u001b[38;5;241;43m.\u001b[39;49m\u001b[43mpy_create\u001b[49m\u001b[43m(\u001b[49m\u001b[43mdtype\u001b[49m\u001b[43m,\u001b[49m\u001b[43m \u001b[49m\u001b[43mlogical\u001b[49m\u001b[38;5;241;43m=\u001b[39;49m\u001b[38;5;241;43m1\u001b[39;49m\u001b[43m)\u001b[49m\n\u001b[1;32m     88\u001b[0m \u001b[38;5;66;03m# Legacy\u001b[39;00m\n\u001b[1;32m     89\u001b[0m \u001b[38;5;28;01mif\u001b[39;00m \u001b[38;5;28many\u001b[39m((compression, shuffle, fletcher32, maxshape, scaleoffset)) \u001b[38;5;129;01mand\u001b[39;00m chunks \u001b[38;5;129;01mis\u001b[39;00m \u001b[38;5;28;01mFalse\u001b[39;00m:\n",
      "File \u001b[0;32mh5py/h5t.pyx:1663\u001b[0m, in \u001b[0;36mh5py.h5t.py_create\u001b[0;34m()\u001b[0m\n",
      "File \u001b[0;32mh5py/h5t.pyx:1687\u001b[0m, in \u001b[0;36mh5py.h5t.py_create\u001b[0;34m()\u001b[0m\n",
      "File \u001b[0;32mh5py/h5t.pyx:1747\u001b[0m, in \u001b[0;36mh5py.h5t.py_create\u001b[0;34m()\u001b[0m\n",
      "\u001b[0;31mTypeError\u001b[0m: Object dtype dtype('O') has no native HDF5 equivalent"
     ]
    }
   ],
   "source": [
    "all_iv_data.iv.move(\"bgmap\", new_name=None)\n",
    "all_iv_data.save(iv_fname, overwrite=True)"
   ]
  },
  {
   "cell_type": "code",
   "execution_count": 104,
   "id": "e8584330-a51f-4460-8546-50c15b20ff02",
   "metadata": {},
   "outputs": [
    {
     "data": {
      "text/plain": [
       "AxisManager(p_sat[dets,obs], R_n[dets,obs], bgmap[dets,obs], dets:LabelAxis(1567), obs:IndexAxis(307))"
      ]
     },
     "execution_count": 104,
     "metadata": {},
     "output_type": "execute_result"
    }
   ],
   "source": [
    "all_iv_data.iv"
   ]
  },
  {
   "cell_type": "code",
   "execution_count": 54,
   "id": "1fc422f6-809c-42b6-a858-d0f591837094",
   "metadata": {},
   "outputs": [
    {
     "name": "stdout",
     "output_type": "stream",
     "text": [
      "obs_id t\n",
      "timestamp 1741150072.812879\n",
      "start_time 1741150072.812879\n",
      "stop_time 1741150464.6478791\n",
      "n_samples 78368\n",
      "telescope l\n",
      "telescope_flavor l\n",
      "tube_slot c\n",
      "tube_flavor u\n",
      "type o\n",
      "subtype i\n",
      "wafer_count 1\n",
      "detector_flavor None\n",
      "duration 391.835000038147\n",
      "az_center 43.98000063409136\n",
      "az_throw 1.8829754715454783e-05\n",
      "el_center 39.99999918244609\n",
      "el_throw 1.659508117413111e-05\n",
      "roll_center -19.155400817553907\n",
      "roll_throw 1.659508117413111e-05\n",
      "wafer_slots_list w\n",
      "stream_ids_list u\n",
      "pwv 6.738870764618834\n",
      "ufm_temp 0.1141395818181818\n"
     ]
    },
    {
     "ename": "TypeError",
     "evalue": "'IndexAxis' object is not subscriptable",
     "output_type": "error",
     "traceback": [
      "\u001b[0;31m---------------------------------------------------------------------------\u001b[0m",
      "\u001b[0;31mTypeError\u001b[0m                                 Traceback (most recent call last)",
      "Cell \u001b[0;32mIn[54], line 6\u001b[0m\n\u001b[1;32m      1\u001b[0m \u001b[38;5;28;01mfor\u001b[39;00m key \u001b[38;5;129;01min\u001b[39;00m all_iv_data\u001b[38;5;241m.\u001b[39mobs_info\u001b[38;5;241m.\u001b[39mkeys():\n\u001b[1;32m      2\u001b[0m     \u001b[38;5;66;03m#type_array = type(all_iv_data.obs_info[key][0])\u001b[39;00m\n\u001b[1;32m      3\u001b[0m     \u001b[38;5;66;03m#for element in all_iv_data.obs_info[key]:\u001b[39;00m\n\u001b[1;32m      4\u001b[0m     \u001b[38;5;66;03m#    if type(element) != type_array:\u001b[39;00m\n\u001b[1;32m      5\u001b[0m     \u001b[38;5;66;03m#        print(key, element)\u001b[39;00m\n\u001b[0;32m----> 6\u001b[0m     \u001b[38;5;28mprint\u001b[39m(key, \u001b[43mall_iv_data\u001b[49m\u001b[38;5;241;43m.\u001b[39;49m\u001b[43mobs_info\u001b[49m\u001b[43m[\u001b[49m\u001b[43mkey\u001b[49m\u001b[43m]\u001b[49m\u001b[43m[\u001b[49m\u001b[38;5;241;43m0\u001b[39;49m\u001b[43m]\u001b[49m)\n",
      "\u001b[0;31mTypeError\u001b[0m: 'IndexAxis' object is not subscriptable"
     ]
    }
   ],
   "source": [
    "for key in all_iv_data.obs_info.keys():\n",
    "    #type_array = type(all_iv_data.obs_info[key][0])\n",
    "    #for element in all_iv_data.obs_info[key]:\n",
    "    #    if type(element) != type_array:\n",
    "    #        print(key, element)\n",
    "    print(key, all_iv_data.obs_info[key][0])"
   ]
  },
  {
   "cell_type": "code",
   "execution_count": 50,
   "id": "79a82d51-7319-45a3-b512-eeef12518951",
   "metadata": {},
   "outputs": [
    {
     "data": {
      "text/plain": [
       "dtype('float64')"
      ]
     },
     "execution_count": 50,
     "metadata": {},
     "output_type": "execute_result"
    }
   ],
   "source": []
  },
  {
   "cell_type": "code",
   "execution_count": null,
   "id": "ab33f741-125e-4d3f-9f73-3403399a6eaa",
   "metadata": {},
   "outputs": [],
   "source": [
    "lopts_low = []\n",
    "lopts_high = []\n",
    "for i, psat in enumerate(all_iv_data.iv.p_sat):\n",
    "    if meta.iv.bgmap[i] in [0,1,4,5,8,9]:\n",
    "        freq = \"low\"\n",
    "    else:\n",
    "        freq = \"high\"\n",
    "    n = UXM_dict[freq][ufm][\"n\"]\n",
    "    lopt = UXM_dict[freq][ufm][\"psat_dark\"]- psat + UXM_dict[freq][ufm][\"kappa\"]*(0.1**n - obs_info.ufm_temp**n)\n",
    "    \n",
    "    if all([np.isnan(item) for item in lopt]):\n",
    "        continue\n",
    "    \n",
    "    if meta.iv.bgmap[i] in [0,1,4,5,8,9]:\n",
    "        lopts_low.append(lopt)\n",
    "    elif meta.iv.bgmap[i] in [2,3,6,7,10,11]:\n",
    "        lopts_high.append(lopt)\n",
    "lopts_low = np.array(lopts_low, dtype=float)\n",
    "lopts_high = np.array(lopts_high, dtype=float)\n",
    "\n",
    "flags_low = [] #Flag out obs that are entirely nan\n",
    "               #This is surprisingly tricky using np funcs\n",
    "for i in range(lopts_low.shape[1]):\n",
    "    if not np.isnan(lopts_low.T[i]).all():\n",
    "        flags_low.append(i)\n",
    "flags_low = np.array(flags_low)\n",
    "\n",
    "flags_high = []\n",
    "for i in range(lopts_high.shape[1]):\n",
    "    if not np.isnan(lopts_high.T[i]).all():\n",
    "        flags_high.append(i)\n",
    "flags_high = np.array(flags_high)\n",
    "\n",
    "lopts_low = lopts_low[...,flags_low]\n",
    "lopts_high = lopts_high[...,flags_high]"
   ]
  },
  {
   "cell_type": "code",
   "execution_count": null,
   "id": "5e8331fa-1bb3-4ab3-871a-96c8d9bb56f2",
   "metadata": {},
   "outputs": [],
   "source": [
    "idx_dict = {\"030\": 0, \"040\":1, \"090\": 2, \"150\": 3, \"220\": 4, \"280\": 5}"
   ]
  },
  {
   "cell_type": "code",
   "execution_count": null,
   "id": "8e9f928e-350b-4266-ab35-38d347f04a99",
   "metadata": {},
   "outputs": [],
   "source": [
    "plt.scatter(obs_info.pwv[flags_low]/np.sin(obs_info.el_center[flags_low]* np.pi / 180.), np.nanmedian(lopts_low, axis = 0), label=\"data\")\n",
    "#plt.plot(lat_goal.pwv / np.sin(50 * np.pi / 180.), lat_goal.loading[...,edx, idx_dict[low_freq]], label=\"v3r7 goal, el=50\")\n",
    "#plt.plot(lat_baseline.pwv / np.sin(50 * np.pi / 180.), lat_baseline.loading[...,edx, idx_dict[low_freq]], label=\"v3r7 baseline, el=50\")\n",
    "\n",
    "plt.plot(optical_loading_detectors[\"pwv_sin_el\"], 1e12*optical_loading_detectors[\"baseline\"][ufm_type][ufm_1], label=\"v3r8 baseline, el=50\")\n",
    "plt.plot(optical_loading_detectors[\"pwv_sin_el\"], 1e12*optical_loading_detectors[\"goal\"][ufm_type][ufm_1], label=\"v3r8 goal, el=50\")\n",
    "\n",
    "plt.xlabel(\"PWV / sin(el)\")\n",
    "plt.ylabel(\"Lotp (pW, array median)\")\n",
    "\n",
    "plt.title(\"Optical Loading for ufm {}, {}GHz\".format(ufm, low_freq))\n",
    "\n",
    "plt.xlim(0,4)\n",
    "\n",
    "if low_freq == \"090\":\n",
    "    plt.ylim(0,3)\n",
    "elif low_freq == \"220\":\n",
    "    plt.ylim(0, 25)\n",
    "\n",
    "plt.legend()\n",
    "plt.savefig(\"./plts/lopts/lopt_{}_{}.pdf\".format(ufm, low_freq), dpi=600)\n",
    "plt.savefig(\"./plts/lopts/lopt_{}_{}.png\".format(ufm, low_freq), dpi=600)"
   ]
  },
  {
   "cell_type": "code",
   "execution_count": null,
   "id": "48110a2a-245d-48bb-a37d-fcaf9a6a4076",
   "metadata": {},
   "outputs": [],
   "source": [
    "plt.scatter(obs_info.pwv[flags_high]/np.sin(obs_info.el_center[flags_high]* np.pi / 180.), np.nanmedian(lopts_high, axis = 0))\n",
    "#plt.plot(lat_goal.pwv / np.sin(50 * np.pi / 180.), lat_goal.loading[...,edx, idx_dict[high_freq]], label=\"v3r7 goal, el=50\")\n",
    "#plt.plot(lat_baseline.pwv / np.sin(50 * np.pi / 180.), lat_baseline.loading[...,edx, idx_dict[high_freq]], label=\"v3r7 baseline, el=50\")\n",
    "\n",
    "plt.plot(optical_loading_detectors[\"pwv_sin_el\"], 1e12*optical_loading_detectors[\"baseline\"][ufm_type][ufm_2], label=\"v3r8 baseline, el=50\")\n",
    "plt.plot(optical_loading_detectors[\"pwv_sin_el\"], 1e12*optical_loading_detectors[\"goal\"][ufm_type][ufm_2], label=\"v3r8 goal, el=50\")\n",
    "\n",
    "plt.xlabel(\"PWV / sin(el)\")\n",
    "plt.ylabel(\"Lotp (pW, array median)\")\n",
    "\n",
    "plt.title(\"Optical Loading for ufm {}, {}GHz\".format(ufm, high_freq))\n",
    "\n",
    "plt.xlim(0,4)\n",
    "if low_freq == \"090\":\n",
    "    plt.ylim(0,4)\n",
    "elif low_freq == \"220\":\n",
    "    plt.ylim(0, 30)\n",
    "plt.legend()\n",
    "\n",
    "plt.savefig(\"./plts/lopts/lopt_{}_{}.pdf\".format(ufm, high_freq), dpi=600)\n",
    "plt.savefig(\"./plts/lopts/lopt_{}_{}.png\".format(ufm, high_freq), dpi=600)"
   ]
  },
  {
   "cell_type": "code",
   "execution_count": null,
   "id": "569ad72c-e157-46c3-808d-687493522301",
   "metadata": {},
   "outputs": [],
   "source": [
    "saturated = np.zeros(len(all_iv_data.iv.p_sat.T))\n",
    "for i, obs in enumerate(all_iv_data.iv.p_sat.T):\n",
    "    saturated[i] = len(np.where((obs <= 0.1))[0]) + sum(np.isnan(x) for x in obs)\n",
    "    \n",
    "\n"
   ]
  },
  {
   "cell_type": "code",
   "execution_count": null,
   "id": "62e743fd-426c-445f-ba47-4686986ac241",
   "metadata": {},
   "outputs": [],
   "source": [
    "plt.scatter(obs_info.pwv/np.sin(obs_info.el_center* np.pi / 180.), saturated)\n",
    "plt.title(\"Saturated Pixels for ufm {} (all freqs)\".format(ufm))\n",
    "\n",
    "plt.xlabel(\"PWV / sin(el)\")\n",
    "plt.ylabel(\"N sat\")\n",
    "\n",
    "plt.xlim(0, 12)\n",
    "plt.ylim(0, 1600)\n",
    "\n",
    "plt.savefig(\"./plts/sats/sat_{}.pdf\".format(ufm), dpi=600)\n",
    "plt.savefig(\"./plts/sats/sat_{}.png\".format(ufm), dpi=600)"
   ]
  },
  {
   "cell_type": "code",
   "execution_count": null,
   "id": "f6afd1c4-e530-47f4-8115-f767076130d5",
   "metadata": {},
   "outputs": [],
   "source": [
    "plt.scatter(obs_info.timestamp, saturated)\n",
    "plt.title(\"Saturated Pixels for ufm {} (all freqs)\".format(ufm))\n",
    "\n",
    "plt.xlabel(\"Obs time (Unix)\")\n",
    "plt.ylabel(\"N sat\")\n",
    "\n",
    "#plt.xlim(0, 12)\n",
    "plt.ylim(0, 1600)\n",
    "\n"
   ]
  },
  {
   "cell_type": "code",
   "execution_count": null,
   "id": "2c5c7a50-b303-4a75-89b2-36111645df2f",
   "metadata": {},
   "outputs": [],
   "source": [
    "obs_info"
   ]
  },
  {
   "cell_type": "code",
   "execution_count": null,
   "id": "a316f126-518d-43be-8ece-4e4d9d349255",
   "metadata": {},
   "outputs": [],
   "source": []
  },
  {
   "cell_type": "code",
   "execution_count": null,
   "id": "71223501-6f39-4c39-9dec-354d36280b08",
   "metadata": {},
   "outputs": [],
   "source": []
  },
  {
   "cell_type": "code",
   "execution_count": null,
   "id": "43d4a7f6-2186-4c98-bc36-cab7b744410a",
   "metadata": {},
   "outputs": [],
   "source": []
  },
  {
   "cell_type": "code",
   "execution_count": null,
   "id": "d7dec0ec-8c61-420d-a65c-c00a0980ebf2",
   "metadata": {},
   "outputs": [],
   "source": []
  },
  {
   "cell_type": "code",
   "execution_count": null,
   "id": "7d352979-c6e7-4a55-92fe-94abc24b602b",
   "metadata": {},
   "outputs": [],
   "source": []
  },
  {
   "cell_type": "code",
   "execution_count": null,
   "id": "92322b8c-e190-4c2f-9402-e9c537289be3",
   "metadata": {},
   "outputs": [],
   "source": []
  },
  {
   "cell_type": "code",
   "execution_count": null,
   "id": "6e3c79dc-1976-47d1-ae24-1210a3ef85bc",
   "metadata": {},
   "outputs": [],
   "source": []
  },
  {
   "cell_type": "code",
   "execution_count": null,
   "id": "5e0ba1ad-551c-4ab3-9a89-b21cb11277ac",
   "metadata": {},
   "outputs": [],
   "source": []
  },
  {
   "cell_type": "code",
   "execution_count": null,
   "id": "0fac41aa-5d29-45e2-aee2-12007c38f7b9",
   "metadata": {},
   "outputs": [],
   "source": []
  },
  {
   "cell_type": "code",
   "execution_count": null,
   "id": "a88ce257-e5df-4b4f-a84e-338d786aad66",
   "metadata": {},
   "outputs": [],
   "source": []
  },
  {
   "cell_type": "code",
   "execution_count": null,
   "id": "418b55dc-f1d5-49f4-838c-4af2a005ae75",
   "metadata": {},
   "outputs": [],
   "source": []
  },
  {
   "cell_type": "code",
   "execution_count": null,
   "id": "67fbea9a-cc00-4c75-836c-26dad83f5cac",
   "metadata": {},
   "outputs": [],
   "source": []
  },
  {
   "cell_type": "code",
   "execution_count": null,
   "id": "bf2bd7d0-8638-4c67-9784-25799d39e70a",
   "metadata": {},
   "outputs": [],
   "source": []
  },
  {
   "cell_type": "code",
   "execution_count": null,
   "id": "d7554cb3-be32-45df-a8b8-ed6894979224",
   "metadata": {},
   "outputs": [],
   "source": []
  },
  {
   "cell_type": "code",
   "execution_count": null,
   "id": "356d7857-c925-460d-a307-8d2bfe0b99b8",
   "metadata": {},
   "outputs": [],
   "source": []
  },
  {
   "cell_type": "code",
   "execution_count": null,
   "id": "6784d499-be47-40f5-a3b7-8ebc905d3d62",
   "metadata": {},
   "outputs": [],
   "source": []
  },
  {
   "cell_type": "code",
   "execution_count": null,
   "id": "98c05c72-b277-4648-98f8-cb95b274917d",
   "metadata": {},
   "outputs": [],
   "source": []
  },
  {
   "cell_type": "code",
   "execution_count": null,
   "id": "5f316556-fd1f-46f3-b77b-2550a9849ada",
   "metadata": {},
   "outputs": [],
   "source": []
  }
 ],
 "metadata": {
  "kernelspec": {
   "display_name": "soconda 0.1.4.dev250",
   "language": "python",
   "name": "soconda-0.1.4.dev250"
  },
  "language_info": {
   "codemirror_mode": {
    "name": "ipython",
    "version": 3
   },
   "file_extension": ".py",
   "mimetype": "text/x-python",
   "name": "python",
   "nbconvert_exporter": "python",
   "pygments_lexer": "ipython3",
   "version": "3.11.9"
  }
 },
 "nbformat": 4,
 "nbformat_minor": 5
}
