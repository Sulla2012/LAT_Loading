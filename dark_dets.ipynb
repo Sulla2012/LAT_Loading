{
 "cells": [
  {
   "cell_type": "code",
   "execution_count": 17,
   "id": "b13461bf-07a2-41bd-90b5-0c93e3431db0",
   "metadata": {},
   "outputs": [
    {
     "name": "stdout",
     "output_type": "stream",
     "text": [
      "The autoreload extension is already loaded. To reload it, use:\n",
      "  %reload_ext autoreload\n"
     ]
    }
   ],
   "source": [
    "%matplotlib inline\n",
    "\n",
    "import numpy as np\n",
    "import datetime as dt\n",
    "import matplotlib.pyplot as plt\n",
    "\n",
    "from sotodlib import core\n",
    "import sotodlib.io.load_book as lb\n",
    "import so3g\n",
    "import sotodlib.tod_ops as tod_ops\n",
    "\n",
    "from so3g.hk import HKTree\n",
    "\n",
    "from dark_dets import get_ivs, get_dark_dets_num, get_dark_dets_thresh\n",
    "\n",
    "import dill as pk\n",
    "\n",
    "%load_ext autoreload\n",
    "%autoreload 2"
   ]
  },
  {
   "cell_type": "code",
   "execution_count": 14,
   "id": "19a992b9-c63e-41c4-a9de-aa9ffeb19026",
   "metadata": {},
   "outputs": [],
   "source": []
  },
  {
   "cell_type": "code",
   "execution_count": 16,
   "id": "5fdf3387-bccd-48eb-bc5c-0d4254ae8e33",
   "metadata": {},
   "outputs": [],
   "source": [
    "ot = \"i2\"\n",
    "\n",
    "det_dict = get_ivs(ot)"
   ]
  },
  {
   "cell_type": "code",
   "execution_count": null,
   "id": "c7f02c54-71fb-46f4-ad39-51829424d9b2",
   "metadata": {},
   "outputs": [],
   "source": [
    "dark_dets, psat_vars = get_dark_dets_num(det_dict)"
   ]
  },
  {
   "cell_type": "code",
   "execution_count": null,
   "id": "5d0e03da-07ac-4e8a-8195-2da64c8f6823",
   "metadata": {},
   "outputs": [],
   "source": [
    "dark_det_vars = np.zeros(len(dark_dets))\n",
    "for i, det in enumerate(dark_dets.keys()):\n",
    "    dark_det_vars[i] = dark_dets[det][\"var\"]"
   ]
  },
  {
   "cell_type": "code",
   "execution_count": null,
   "id": "81e20f7b-d88b-4684-a121-b6c79bdd6d5e",
   "metadata": {},
   "outputs": [],
   "source": [
    "plt.hist(np.sqrt(psat_vars), bins = np.linspace(0, 1))#, bins = np.logspace(-12, -8, 5))\n",
    "plt.hist(np.sqrt(dark_det_vars), bins = np.linspace(0, 1))\n",
    "plt.yscale(\"log\")\n",
    "plt.xlabel(r\"Variance of $\\text{P}_{\\text{sat}}$ (pW)\")\n"
   ]
  },
  {
   "cell_type": "code",
   "execution_count": null,
   "id": "5537c6c4-96a2-4505-b293-a780eb02c6a2",
   "metadata": {},
   "outputs": [],
   "source": []
  },
  {
   "cell_type": "code",
   "execution_count": 32,
   "id": "ad32e384-d204-4f82-bd79-046a28fcdabe",
   "metadata": {},
   "outputs": [
    {
     "name": "stderr",
     "output_type": "stream",
     "text": [
      "/so/home/jorlo/dev/LAT_analysis/dark_dets.py:64: RuntimeWarning: Degrees of freedom <= 0 for slice.\n",
      "  psat_vars.append(psat_var)\n"
     ]
    }
   ],
   "source": [
    "dark_dict = {}\n",
    "ots = [\"c1\", \"i1\", \"i3\", \"i4\", \"i5\", \"i6\"]\n",
    "\n",
    "for ot in ots:\n",
    "    det_dict = get_ivs(ot)\n",
    "    dark_dets, psat_vars = get_dark_dets_num(det_dict)\n",
    "    dark_dict[ot] = dark_dets\n",
    "\n",
    "with open(\"dark_dets.pk\", \"wb\") as f:\n",
    "    pk.dump(dark_dict, f)"
   ]
  },
  {
   "cell_type": "code",
   "execution_count": 33,
   "id": "82bffa8e-f5f4-49b7-b5de-e82ac7baed37",
   "metadata": {},
   "outputs": [
    {
     "data": {
      "text/plain": [
       "{'uv46_5_299': {'var': 0.0002426148046599362, 'bgmap': 8},\n",
       " 'uv46_3_358': {'var': 0.04191271455133158, 'bgmap': 0},\n",
       " 'uv46_2_176': {'var': 0.12365218286418458, 'bgmap': 4},\n",
       " 'uv46_0_269': {'var': 0.12773229831703706, 'bgmap': 4},\n",
       " 'uv46_3_134': {'var': 0.12826963501117192, 'bgmap': 0},\n",
       " 'uv46_4_056': {'var': 0.12895301698530298, 'bgmap': 8},\n",
       " 'uv46_6_467': {'var': 0.1295128726316354, 'bgmap': 9},\n",
       " 'uv46_4_060': {'var': 0.13108022833255312, 'bgmap': 8},\n",
       " 'uv46_3_151': {'var': 0.13145691881908797, 'bgmap': 0},\n",
       " 'uv46_3_252': {'var': 0.13255574878866427, 'bgmap': 0},\n",
       " 'uv46_2_503': {'var': 0.13349546526645778, 'bgmap': 4},\n",
       " 'uv46_1_496': {'var': 0.13510534408369068, 'bgmap': 1},\n",
       " 'uv46_4_173': {'var': 0.13604265191497683, 'bgmap': 8},\n",
       " 'uv46_5_071': {'var': 0.14068216239896963, 'bgmap': 8},\n",
       " 'uv46_3_183': {'var': 0.1422891385790537, 'bgmap': 0},\n",
       " 'uv46_0_234': {'var': 0.1437012532320976, 'bgmap': 1},\n",
       " 'uv46_6_243': {'var': 0.1462359710986114, 'bgmap': 9},\n",
       " 'uv46_1_202': {'var': 0.14697885071779984, 'bgmap': 4},\n",
       " 'uv46_0_203': {'var': 0.15386496282236226, 'bgmap': 4},\n",
       " 'uv46_3_072': {'var': 0.15489758793778685, 'bgmap': 5},\n",
       " 'uv46_4_348': {'var': 0.155272016351894, 'bgmap': 8},\n",
       " 'uv46_0_442': {'var': 0.1553864601865688, 'bgmap': 1},\n",
       " 'uv46_2_298': {'var': 0.15684628963614375, 'bgmap': 5},\n",
       " 'uv46_0_256': {'var': 0.1633972938473006, 'bgmap': 1},\n",
       " 'uv46_1_236': {'var': 0.16565875396935395, 'bgmap': 4},\n",
       " 'uv46_5_219': {'var': 0.16777873616320557, 'bgmap': 8},\n",
       " 'uv46_1_466': {'var': 0.17082993436427027, 'bgmap': 4},\n",
       " 'uv46_3_493': {'var': 0.1770231812694356, 'bgmap': 5},\n",
       " 'uv46_3_461': {'var': 0.24235024189230678, 'bgmap': 5},\n",
       " 'uv46_3_216': {'var': 0.26933718118607064, 'bgmap': 5},\n",
       " 'uv46_4_493': {'var': 0.5134441619763044, 'bgmap': 7},\n",
       " 'uv46_2_027': {'var': 3.251475081340985, 'bgmap': 2},\n",
       " 'uv46_3_413': {'var': 3.3694392444643633, 'bgmap': 5},\n",
       " 'uv46_3_083': {'var': 6.945876612299327, 'bgmap': 0},\n",
       " 'uv46_5_331': {'var': 7.929820821265017, 'bgmap': 8},\n",
       " 'uv46_7_258': {'var': 9.498558511383235, 'bgmap': 11}}"
      ]
     },
     "execution_count": 33,
     "metadata": {},
     "output_type": "execute_result"
    }
   ],
   "source": [
    "dark_dict[\"c1\"]    "
   ]
  },
  {
   "cell_type": "code",
   "execution_count": null,
   "id": "dbb190b1-cb63-4989-a6ae-32db1e5c0bfc",
   "metadata": {},
   "outputs": [],
   "source": []
  },
  {
   "cell_type": "code",
   "execution_count": null,
   "id": "56ea7c0d-743b-4fbd-aff2-75334bcbd9dc",
   "metadata": {},
   "outputs": [],
   "source": []
  }
 ],
 "metadata": {
  "kernelspec": {
   "display_name": "soconda 0.1.4.dev250",
   "language": "python",
   "name": "soconda-0.1.4.dev250"
  },
  "language_info": {
   "codemirror_mode": {
    "name": "ipython",
    "version": 3
   },
   "file_extension": ".py",
   "mimetype": "text/x-python",
   "name": "python",
   "nbconvert_exporter": "python",
   "pygments_lexer": "ipython3",
   "version": "3.11.9"
  }
 },
 "nbformat": 4,
 "nbformat_minor": 5
}
